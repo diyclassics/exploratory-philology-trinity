{
 "cells": [
  {
   "cell_type": "code",
   "execution_count": null,
   "metadata": {},
   "outputs": [],
   "source": [
    "# Imports\n",
    "\n",
    "import random\n",
    "from collections import defaultdict\n",
    "from pprint import pprint"
   ]
  },
  {
   "cell_type": "code",
   "execution_count": null,
   "metadata": {},
   "outputs": [],
   "source": [
    "# Constants\n",
    "\n",
    "LATIN_LETTERS = \"ABCDEFGHIKLMNOPQRSTUXYZ\""
   ]
  },
  {
   "cell_type": "code",
   "execution_count": null,
   "metadata": {},
   "outputs": [],
   "source": [
    "# Sample\n",
    "\n",
    "puzzle_text = \"\"\"Quo usque tandem abutere, Catilina, patientia nostra? quam diu etiam furor iste tuus nos eludet? quem ad finem sese effrenata iactabit audacia?\"\"\".upper()"
   ]
  },
  {
   "cell_type": "code",
   "execution_count": null,
   "metadata": {},
   "outputs": [],
   "source": [
    "# Helper function to \"scramble\" alphabet into code...\n",
    "\n",
    "def derange(text):\n",
    "    final = defaultdict(str)\n",
    "    pool = ''.join(text)\n",
    "    for letter in text:\n",
    "        replacement = random.sample(pool, 1)[0]\n",
    "        while replacement not in final.values():\n",
    "            if replacement != letter:\n",
    "                print(f'{letter} -> {replacement}')\n",
    "                final[letter] = replacement\n",
    "                pool = pool.replace(replacement, '')\n",
    "            else:\n",
    "                replacement = random.sample(pool, 1)[0]\n",
    "    return list(final.values())            "
   ]
  },
  {
   "cell_type": "code",
   "execution_count": null,
   "metadata": {},
   "outputs": [],
   "source": [
    "# Test helper function\n",
    "\n",
    "crypt_letters = derange(list(LATIN_LETTERS))\n",
    "print()\n",
    "print(f'Key:\\n{LATIN_LETTERS}\\n{\"\".join(crypt_letters)}')"
   ]
  },
  {
   "cell_type": "code",
   "execution_count": null,
   "metadata": {},
   "outputs": [],
   "source": [
    "# Helper function to \"scramble\" alphabet into code...\n",
    "# NB: with seeding\n",
    "\n",
    "def derange(text, seed=None):\n",
    "    if seed:\n",
    "        random.seed(seed)\n",
    "    final = defaultdict(str)\n",
    "    pool = ''.join(text)\n",
    "    for letter in text:\n",
    "        replacement = random.sample(pool, 1)[0]\n",
    "        while replacement not in final.values():\n",
    "            if replacement != letter:\n",
    "                final[letter] = replacement\n",
    "                pool = pool.replace(replacement, '')\n",
    "            else:\n",
    "                replacement = random.sample(pool, 1)[0]\n",
    "    return list(final.values())            "
   ]
  },
  {
   "cell_type": "code",
   "execution_count": null,
   "metadata": {},
   "outputs": [],
   "source": [
    "# Test helper function\n",
    "\n",
    "crypt_letters = derange(list(LATIN_LETTERS), seed=42)\n",
    "print(f'Key:\\n{LATIN_LETTERS}\\n{\"\".join(crypt_letters)}')"
   ]
  },
  {
   "cell_type": "code",
   "execution_count": null,
   "metadata": {},
   "outputs": [],
   "source": [
    "# Test helper function to demonstrate seeding\n",
    "\n",
    "crypt_letters = derange(list(LATIN_LETTERS), seed=42)\n",
    "print(f'Key:\\n{LATIN_LETTERS}\\n{\"\".join(crypt_letters)}')"
   ]
  },
  {
   "cell_type": "code",
   "execution_count": null,
   "metadata": {},
   "outputs": [],
   "source": [
    "# Helper function to derange list of letters\n",
    "# Note the 'citation' of SO\n",
    "\n",
    "def derange(s, seed=None):\n",
    "    # Cf. https://stackoverflow.com/a/41207497\n",
    "    if seed:\n",
    "        random.seed(seed)\n",
    "    d = s[:]\n",
    "    while any([a==b for a,b in zip(d,s)]): random.shuffle(d)\n",
    "    return d"
   ]
  },
  {
   "cell_type": "code",
   "execution_count": null,
   "metadata": {},
   "outputs": [],
   "source": [
    "crypt_letters = ''.join(derange(list(LATIN_LETTERS), seed=42))\n",
    "print(f'Key:\\n{LATIN_LETTERS}\\n{crypt_letters}')"
   ]
  },
  {
   "cell_type": "code",
   "execution_count": null,
   "metadata": {},
   "outputs": [],
   "source": [
    "# Demonstrate how maketrans/translate methods works\n",
    "\n",
    "input = 'abc'\n",
    "table = input.maketrans('abc', '123')\n",
    "print(input.translate(table))\n",
    "\n",
    "input = 'abcdef'\n",
    "table = input.maketrans('abc', '123')\n",
    "print(input.translate(table))\n",
    "\n",
    "input = 'abcdefabcdef'\n",
    "table = input.maketrans('abc', '123')\n",
    "print(input.translate(table))\n",
    "\n"
   ]
  },
  {
   "cell_type": "code",
   "execution_count": null,
   "metadata": {},
   "outputs": [],
   "source": [
    "# Create cryptogram\n",
    "crypt_table = puzzle_text.maketrans(LATIN_LETTERS, crypt_letters)\n",
    "puzzle_crypt = puzzle_text.translate(crypt_table)\n",
    "\n",
    "print(f'Puzzle:\\n{puzzle_text}\\n\\nCryptogram:\\n{puzzle_crypt}')"
   ]
  },
  {
   "cell_type": "code",
   "execution_count": null,
   "metadata": {},
   "outputs": [],
   "source": [
    "# Rerun puzzle with random crypts\n",
    "\n",
    "for i in range(1,4):\n",
    "\n",
    "    crypt_letters = ''.join(derange(list(LATIN_LETTERS)))\n",
    "    crypt_table = puzzle_text.maketrans(LATIN_LETTERS, crypt_letters)\n",
    "    puzzle_crypt = puzzle_text.translate(crypt_table)\n",
    "    print('---')\n",
    "    print(f'Puzzle #{i}:\\n{puzzle_text}\\n\\nCryptogram #{i}:\\n{puzzle_crypt}')\n",
    "    print('---')"
   ]
  },
  {
   "cell_type": "code",
   "execution_count": null,
   "metadata": {},
   "outputs": [],
   "source": [
    "texts = [\n",
    "    \"Quo usque tandem abutere, Catilina, patientia nostra? quam diu etiam furor iste tuus nos eludet? quem ad finem sese effrenata iactabit audacia?\",\n",
    "    \"Nihilne te nocturnum praesidium Palati, nihil urbis vigiliae, nihil timor populi, nihil concursus bonorum omnium, nihil hic munitissimus habendi senatus locus, nihil horum ora voltusque moverunt?\", \n",
    "    \"Patere tua consilia non sentis, constrictam iam horum omnium scientia teneri coniurationem tuam non vides? Quid proxima, quid superiore nocte egeris, ubi fueris, quos convocaveris, quid consilii ceperis, quem nostrum ignorare arbitraris?\"\n",
    "    ]\n",
    "texts = [text.upper() for text in texts]"
   ]
  },
  {
   "cell_type": "code",
   "execution_count": null,
   "metadata": {},
   "outputs": [],
   "source": [
    "for i, puzzle_text in enumerate(texts, 1):\n",
    "    crypt_letters = ''.join(derange(list(LATIN_LETTERS)))\n",
    "    crypt_table = puzzle_text.maketrans(LATIN_LETTERS, crypt_letters)\n",
    "    puzzle_crypt = puzzle_text.translate(crypt_table)\n",
    "    print('---')\n",
    "    print(f'Puzzle #{i}:\\n{puzzle_text}\\n\\nCryptogram #{i}:\\n{puzzle_crypt}')\n",
    "    print('---')"
   ]
  }
 ],
 "metadata": {
  "kernelspec": {
   "display_name": "Python 3.10.4 64-bit ('exploratory-philology')",
   "language": "python",
   "name": "python3"
  },
  "language_info": {
   "codemirror_mode": {
    "name": "ipython",
    "version": 3
   },
   "file_extension": ".py",
   "mimetype": "text/x-python",
   "name": "python",
   "nbconvert_exporter": "python",
   "pygments_lexer": "ipython3",
   "version": "3.10.4"
  },
  "orig_nbformat": 4,
  "vscode": {
   "interpreter": {
    "hash": "602b9845bb6702be41bdfdefd2bba256d92e78b624ab00c1b8e88240a331b85f"
   }
  }
 },
 "nbformat": 4,
 "nbformat_minor": 2
}
