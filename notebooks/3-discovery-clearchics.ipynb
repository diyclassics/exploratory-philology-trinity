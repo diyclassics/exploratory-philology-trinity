{
 "cells": [
  {
   "cell_type": "code",
   "execution_count": null,
   "metadata": {},
   "outputs": [],
   "source": [
    "# Imports\n",
    "\n",
    "from cltkreaders.grc import GreekTesseraeCorpusReader\n",
    "import sys\n",
    "import unicodedata\n",
    "import re\n",
    "from natsort import natsorted\n",
    "from pprint import pprint"
   ]
  },
  {
   "cell_type": "code",
   "execution_count": null,
   "metadata": {},
   "outputs": [],
   "source": [
    "# Constants\n",
    "\n",
    "AUTHOR = 'Homer'"
   ]
  },
  {
   "cell_type": "code",
   "execution_count": null,
   "metadata": {},
   "outputs": [],
   "source": [
    "# Load corpus, get files\n",
    "T = GreekTesseraeCorpusReader()\n",
    "files = [file for file in T.fileids() if AUTHOR.lower() in file]\n",
    "\n",
    "print(files[:5])"
   ]
  },
  {
   "cell_type": "code",
   "execution_count": null,
   "metadata": {},
   "outputs": [],
   "source": [
    "# Sort by book number\n",
    "\n",
    "files = natsorted(files)\n",
    "print(files)"
   ]
  },
  {
   "cell_type": "markdown",
   "metadata": {},
   "source": [
    "## Discovering 'clearchics'\n",
    "\n",
    "from Athenaeus 11.87, tr. Yonge ([Perseus](http://www.perseus.tufts.edu/hopper/text?doc=Perseus%3Atext%3A2013.01.0003%3Abook%3D11%3Achapter%3D87))\n",
    ">This, then, was what Clearchus said; and the things which he says one ought to propose, are, I imagine, such as these. For one person to quote a line in Homer beginning with Alpha, and ending with the same letter, such as...  \n",
    ">  \n",
    "> αγχοῦ δ᾽ ἱσταμένη ἔπεα πτερόεντα προσηύδα.  \n",
    "> αλλ᾽ ἄγε νῦν μάστιγα καὶ ἡνία σιγαλόεντα.  \n",
    "> ασπίδας εὐκύκλους λαισήαϊ τε πτερόεντα.  "
   ]
  },
  {
   "cell_type": "code",
   "execution_count": null,
   "metadata": {},
   "outputs": [],
   "source": [
    "# Get citation and text per line\n",
    "\n",
    "lines = []\n",
    "\n",
    "for doc_row in T.doc_rows(files):\n",
    "    lines.extend(doc_row.items())\n",
    "\n",
    "doc_rows = dict(lines)\n",
    "\n",
    "citations, lines = zip(*lines)\n",
    "\n",
    "print(citations[:5])\n",
    "print(lines[:5])"
   ]
  },
  {
   "cell_type": "code",
   "execution_count": null,
   "metadata": {},
   "outputs": [],
   "source": [
    "# Describe lines in author\n",
    "\n",
    "print(f'There are {len(lines)} lines in {AUTHOR}.')"
   ]
  },
  {
   "cell_type": "code",
   "execution_count": null,
   "metadata": {},
   "outputs": [],
   "source": [
    "# Helper function to remove diacriticals\n",
    "\n",
    "def remove_diacriticals(text):\n",
    "    combining_character_table = dict.fromkeys(c for c in range(sys.maxunicode) if unicodedata.combining(chr(c)))\n",
    "    text = unicodedata.normalize('NFD', text)\n",
    "    text = text.translate(combining_character_table)\n",
    "    return text"
   ]
  },
  {
   "cell_type": "code",
   "execution_count": null,
   "metadata": {},
   "outputs": [],
   "source": [
    "# Helper function for preprocessing\n",
    "def preprocess(text, lower=True, punctuation=False, numbers=False, remove_spaces=False, diacriticals=True):\n",
    "    if lower:\n",
    "        text = text.lower() # Lowercase\n",
    "\n",
    "    if not punctuation:\n",
    "        # Remove punctuation\n",
    "        punctuation =\"\\\"#$%&\\'()*+,/:;<=>@[\\]^_`{|}~.?!«»—“-”\"\n",
    "        misc = '¡£¤¥¦§¨©¯°±²³´µ¶·¸¹º¼½¾¿÷·–‘’†•ↄ∞⏑〈〉（）'\n",
    "        misc += punctuation\n",
    "        translator = str.maketrans({key: \" \" for key in misc})\n",
    "        text = text.translate(translator)\n",
    "\n",
    "    if not numbers:\n",
    "        # Remove numbers\n",
    "        translator = str.maketrans({key: \" \" for key in '0123456789'})\n",
    "        text = text.translate(translator)\n",
    "\n",
    "    if remove_spaces:\n",
    "        text = \"\".join(text.split())\n",
    "\n",
    "    if not diacriticals:\n",
    "        text = remove_diacriticals(text)\n",
    "\n",
    "    # Fix spacing\n",
    "    text = re.sub(' +', ' ', text)\n",
    "\n",
    "    text = unicodedata.normalize('NFC', text)\n",
    "\n",
    "    return text.strip()"
   ]
  },
  {
   "cell_type": "code",
   "execution_count": null,
   "metadata": {},
   "outputs": [],
   "source": [
    "# Preprocess lines, i.e. case, numbers, punctuation, etc.\n",
    "\n",
    "prep_lines = [preprocess(line, diacriticals=True) for line in lines]\n",
    "pprint(prep_lines[:5])"
   ]
  },
  {
   "cell_type": "code",
   "execution_count": null,
   "metadata": {},
   "outputs": [],
   "source": [
    "# Remove diacriticals; fastest way\n",
    "\n",
    "concatenated_lines = \"\\n\".join(prep_lines)\n",
    "concatenated_lines = preprocess(concatenated_lines, diacriticals=False)\n",
    "prep_lines = concatenated_lines.split('\\n')\n",
    "print(len(prep_lines))\n",
    "\n",
    "print(prep_lines[:5])"
   ]
  },
  {
   "cell_type": "code",
   "execution_count": null,
   "metadata": {},
   "outputs": [],
   "source": [
    "# Check for clearchics\n",
    "\n",
    "clearchics = []\n",
    "\n",
    "for citation, line in zip(citations, prep_lines):\n",
    "    if line[0] == line[-1]:\n",
    "        clearchics.append(citation)\n",
    "\n",
    "print(f'There are {len(clearchics)} clearchics in {AUTHOR}.')"
   ]
  },
  {
   "cell_type": "code",
   "execution_count": null,
   "metadata": {},
   "outputs": [],
   "source": [
    "# Print sample of clearchics\n",
    "\n",
    "import random\n",
    "\n",
    "num = 10\n",
    "clearchic_sample = random.sample(clearchics, num)\n",
    "\n",
    "print(f'Here is a random sample of {num} clearchics from {AUTHOR}...')\n",
    "\n",
    "for i, clearchic in enumerate(clearchic_sample, 1):\n",
    "    print(f'{i}: {clearchic}: {doc_rows[clearchic]}')"
   ]
  },
  {
   "cell_type": "code",
   "execution_count": null,
   "metadata": {},
   "outputs": [],
   "source": [
    "# Note how above we made a dict with citations as keys and original lines as values to make look ups easier later\n",
    "\n",
    "# e.g.\n",
    "# doc_rows['<hom.od 23.112>']"
   ]
  },
  {
   "cell_type": "code",
   "execution_count": null,
   "metadata": {},
   "outputs": [],
   "source": [
    "# Now that you have reached this cell, I want you to rerun the experiment with a slightly different focus...\n",
    "# 1. Figure out what needs to be done to find the answer for Nonnus as opposed to Homer\n",
    "# 2. Figure out how to check for lines that begin and end, not just with the same first letter, but rather \n",
    "#     with the same first two letters.\n"
   ]
  }
 ],
 "metadata": {
  "kernelspec": {
   "display_name": "Python 3.10.4 64-bit ('exploratory-philology')",
   "language": "python",
   "name": "python3"
  },
  "language_info": {
   "codemirror_mode": {
    "name": "ipython",
    "version": 3
   },
   "file_extension": ".py",
   "mimetype": "text/x-python",
   "name": "python",
   "nbconvert_exporter": "python",
   "pygments_lexer": "ipython3",
   "version": "3.10.4"
  },
  "orig_nbformat": 4,
  "vscode": {
   "interpreter": {
    "hash": "602b9845bb6702be41bdfdefd2bba256d92e78b624ab00c1b8e88240a331b85f"
   }
  }
 },
 "nbformat": 4,
 "nbformat_minor": 2
}
