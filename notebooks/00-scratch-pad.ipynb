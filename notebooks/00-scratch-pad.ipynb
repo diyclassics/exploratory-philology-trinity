{
 "cells": [
  {
   "cell_type": "code",
   "execution_count": null,
   "metadata": {},
   "outputs": [],
   "source": []
  }
 ],
 "metadata": {
  "kernelspec": {
   "display_name": "Python 3.10.4 64-bit ('3.10.4')",
   "language": "python",
   "name": "python3"
  },
  "language_info": {
   "name": "python",
   "version": "3.10.4"
  },
  "orig_nbformat": 4,
  "vscode": {
   "interpreter": {
    "hash": "ffb215dc8505b7115bcb19c4b127a0d8b36dd75ecc840da4617d52079993c02e"
   }
  }
 },
 "nbformat": 4,
 "nbformat_minor": 2
}
