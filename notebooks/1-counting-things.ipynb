{
 "cells": [
  {
   "cell_type": "code",
   "execution_count": null,
   "metadata": {},
   "outputs": [],
   "source": [
    "# Imports\n",
    "\n",
    "from cltkreaders.lat import LatinTesseraeCorpusReader\n",
    "from collections import defaultdict\n",
    "from pprint import pprint\n",
    "import pickle\n",
    "\n",
    "# Imports; for plotting\n",
    "\n",
    "import seaborn as sns\n",
    "import matplotlib.pyplot as plt\n",
    "pal = sns.color_palette(\"colorblind\")"
   ]
  },
  {
   "cell_type": "code",
   "execution_count": null,
   "metadata": {},
   "outputs": [],
   "source": [
    "# Setup corpus\n",
    "\n",
    "T = LatinTesseraeCorpusReader()\n",
    "\n",
    "print(f'There are {len(T.fileids())} files in this corpus.\\n')\n",
    "print(f'Here are the first five (5) files: {T.fileids()[:5]}')"
   ]
  },
  {
   "cell_type": "code",
   "execution_count": null,
   "metadata": {},
   "outputs": [],
   "source": [
    "plautus = [file for file in T.fileids() if 'plautus' in file]\n",
    "pprint(plautus)"
   ]
  },
  {
   "cell_type": "code",
   "execution_count": null,
   "metadata": {},
   "outputs": [],
   "source": [
    "print(f'There are {len(plautus)} works by Plautus in this text collection.')"
   ]
  },
  {
   "cell_type": "code",
   "execution_count": null,
   "metadata": {},
   "outputs": [],
   "source": [
    "menaechmi = 'plautus.menaechmi.tess'"
   ]
  },
  {
   "cell_type": "markdown",
   "metadata": {},
   "source": [
    "![](img/perseus_menaechmi_prologus.png)"
   ]
  },
  {
   "cell_type": "code",
   "execution_count": null,
   "metadata": {},
   "outputs": [],
   "source": [
    "menaechmi_words = T.words(menaechmi)\n",
    "\n",
    "for i in range(6):\n",
    "    print(next(menaechmi_words))"
   ]
  },
  {
   "cell_type": "markdown",
   "metadata": {},
   "source": [
    "![](img/perseus_menaechmi_prologus_count.png)"
   ]
  },
  {
   "cell_type": "code",
   "execution_count": null,
   "metadata": {},
   "outputs": [],
   "source": [
    "menaechmi_words = list(T.words(menaechmi))\n",
    "\n",
    "print(menaechmi_words[:22])"
   ]
  },
  {
   "cell_type": "code",
   "execution_count": null,
   "metadata": {},
   "outputs": [],
   "source": [
    "from latintools import preprocess"
   ]
  },
  {
   "cell_type": "code",
   "execution_count": null,
   "metadata": {},
   "outputs": [],
   "source": [
    "menaechmi_tokens = list(T.words(menaechmi))\n",
    "menaechmi_words = list(T.words(menaechmi, preprocess=preprocess))\n",
    "\n",
    "print(menaechmi_words[:22])"
   ]
  },
  {
   "cell_type": "code",
   "execution_count": null,
   "metadata": {},
   "outputs": [],
   "source": [
    "menaechmi_word_count = len(menaechmi_words)\n",
    "\n",
    "print(f'There are {menaechmi_word_count} words in Plautus\\'s *Menaechmi*.')"
   ]
  },
  {
   "cell_type": "code",
   "execution_count": null,
   "metadata": {},
   "outputs": [],
   "source": [
    "menaechmi_unique_word_count = len(set(menaechmi_words))\n",
    "\n",
    "print(f'There are {menaechmi_unique_word_count} unique words in Plautus\\'s *Menaechmi*.')"
   ]
  },
  {
   "cell_type": "markdown",
   "metadata": {},
   "source": [
    "**ANALOGUE CHALLENGE**\n",
    "\n",
    "- What do you think are the most frequent words in the Menaechmi? In groups of 3-4 people, make a list of ten (10) words that you all think appear the most in the play."
   ]
  },
  {
   "cell_type": "code",
   "execution_count": null,
   "metadata": {},
   "outputs": [],
   "source": [
    "from collections import Counter\n",
    "\n",
    "word_counter = Counter(menaechmi_words)\n",
    "\n",
    "print(word_counter.most_common(25))"
   ]
  },
  {
   "cell_type": "code",
   "execution_count": null,
   "metadata": {},
   "outputs": [],
   "source": [
    "# Get counter with all texts available\n",
    "# Cache results since this will take some time to run\n",
    "\n",
    "# Consider doing this—it is an interesting comparison"
   ]
  },
  {
   "cell_type": "code",
   "execution_count": null,
   "metadata": {},
   "outputs": [],
   "source": [
    "for play in plautus[:3]:\n",
    "    top_five = [word for word, _ in Counter(T.words(play, preprocess=preprocess)).most_common(10)]\n",
    "    print(f'{play}: {\", \".join(top_five)}')"
   ]
  },
  {
   "cell_type": "code",
   "execution_count": null,
   "metadata": {},
   "outputs": [],
   "source": [
    "for work in [file for file in T.fileids() if 'cicero' in file][:3]:\n",
    "    top_five = [word for word, _ in Counter(T.words(work, preprocess=preprocess)).most_common(10)]\n",
    "    print(f'{work}: {\", \".join(top_five)}')"
   ]
  },
  {
   "cell_type": "code",
   "execution_count": null,
   "metadata": {},
   "outputs": [],
   "source": [
    "from tqdm import tqdm\n",
    "\n",
    "plautus_lens = []\n",
    "\n",
    "for play in tqdm(plautus):\n",
    "    play_len = len(list(T.words(play)))\n",
    "    plautus_lens.append(play_len)\n"
   ]
  },
  {
   "cell_type": "code",
   "execution_count": null,
   "metadata": {},
   "outputs": [],
   "source": [
    "print(plautus_lens)"
   ]
  },
  {
   "cell_type": "code",
   "execution_count": null,
   "metadata": {},
   "outputs": [],
   "source": [
    "data = list(zip(plautus, plautus_lens))"
   ]
  },
  {
   "cell_type": "code",
   "execution_count": null,
   "metadata": {},
   "outputs": [],
   "source": [
    "from tabulate import tabulate\n",
    "\n",
    "print(tabulate(data))"
   ]
  },
  {
   "cell_type": "code",
   "execution_count": null,
   "metadata": {},
   "outputs": [],
   "source": [
    "data = sorted(data, key=lambda x: x[1], reverse=True)"
   ]
  },
  {
   "cell_type": "code",
   "execution_count": null,
   "metadata": {},
   "outputs": [],
   "source": [
    "print(tabulate(data))"
   ]
  },
  {
   "cell_type": "code",
   "execution_count": null,
   "metadata": {},
   "outputs": [],
   "source": [
    "# Make bar plot of normalized data\n",
    "\n",
    "xs, ys = zip(*data)"
   ]
  },
  {
   "cell_type": "code",
   "execution_count": null,
   "metadata": {},
   "outputs": [],
   "source": [
    "import matplotlib.pyplot as plt\n",
    "\n",
    "fig = plt.figure(figsize=(32, 8))\n",
    "ax = fig.add_axes([0,0,1,1])\n",
    "ax.bar(xs, ys)\n",
    "# ax.set_xticklabels(labels=xs, rotation=45, horizontalalignment='right', fontsize=18);\n",
    "ax.set_xticks(ax.get_xticks())\n",
    "ax.set_xticklabels(xs, rotation = 45, ha=\"right\", fontsize=20)\n",
    "ax.set_yticks(ax.get_yticks())\n",
    "ax.set_yticklabels([int(tick) for tick in ax.get_yticks()], fontsize=16)\n",
    "ax.set_xlabel('Works', fontsize=24)\n",
    "ax.set_ylabel('Word count', fontsize=24)\n",
    "plt.title('Lengths of Plautus\\'s plays (in words)', fontsize=36)\n",
    "plt.show()"
   ]
  }
 ],
 "metadata": {
  "kernelspec": {
   "display_name": "Python 3.10.4 64-bit ('exploratory-philology')",
   "language": "python",
   "name": "python3"
  },
  "language_info": {
   "codemirror_mode": {
    "name": "ipython",
    "version": 3
   },
   "file_extension": ".py",
   "mimetype": "text/x-python",
   "name": "python",
   "nbconvert_exporter": "python",
   "pygments_lexer": "ipython3",
   "version": "3.10.4"
  },
  "orig_nbformat": 4,
  "vscode": {
   "interpreter": {
    "hash": "602b9845bb6702be41bdfdefd2bba256d92e78b624ab00c1b8e88240a331b85f"
   }
  }
 },
 "nbformat": 4,
 "nbformat_minor": 2
}
