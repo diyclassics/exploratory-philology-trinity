{
 "cells": [
  {
   "cell_type": "code",
   "execution_count": null,
   "metadata": {},
   "outputs": [],
   "source": [
    "# Imports\n",
    "\n",
    "from cltkreaders.lat import LatinTesseraeCorpusReader\n",
    "from collections import defaultdict\n",
    "from latintools import preprocess\n",
    "from pprint import pprint\n",
    "from tqdm import tqdm\n",
    "import pickle"
   ]
  },
  {
   "cell_type": "code",
   "execution_count": null,
   "metadata": {},
   "outputs": [],
   "source": [
    "# Setup corpus\n",
    "\n",
    "T = LatinTesseraeCorpusReader()"
   ]
  },
  {
   "cell_type": "code",
   "execution_count": null,
   "metadata": {},
   "outputs": [],
   "source": [
    "# Get text \n",
    "\n",
    "mena = 'plautus.menaechmi.tess'\n",
    "mena_words = T.words(mena, preprocess=preprocess)"
   ]
  },
  {
   "cell_type": "code",
   "execution_count": null,
   "metadata": {},
   "outputs": [],
   "source": [
    "# Find word in text\n",
    "\n",
    "search_word = 'ego'\n",
    "\n",
    "for word in mena_words:\n",
    "    if word == search_word :\n",
    "        print('Found one!')\n",
    "        break"
   ]
  },
  {
   "cell_type": "code",
   "execution_count": null,
   "metadata": {},
   "outputs": [],
   "source": [
    "# Get lines\n",
    "\n",
    "mena_lines = next(T.doc_rows(mena))\n",
    "mena_lines = list(mena_lines.items())\n",
    "mena_lines[:5]"
   ]
  },
  {
   "cell_type": "code",
   "execution_count": null,
   "metadata": {},
   "outputs": [],
   "source": [
    "# Search text\n",
    "\n",
    "for citation, line in mena_lines:\n",
    "    if search_word in line:\n",
    "        print('-----')\n",
    "        print(citation)\n",
    "        print(line)\n",
    "        print('-----')\n",
    "        break"
   ]
  },
  {
   "cell_type": "code",
   "execution_count": null,
   "metadata": {},
   "outputs": [],
   "source": [
    "# Search \"all\" texts\n",
    "\n",
    "for file in T.fileids()[:2]:\n",
    "    lines = next(T.doc_rows(file))\n",
    "    lines = list(lines.items())\n",
    "    for citation, line in lines:\n",
    "        if search_word in line:\n",
    "            print(citation)"
   ]
  },
  {
   "cell_type": "code",
   "execution_count": null,
   "metadata": {},
   "outputs": [],
   "source": [
    "# Collect matches in \"all\" texts\n",
    "\n",
    "from collections import defaultdict\n",
    "\n",
    "ego_counts = defaultdict(int)\n",
    "\n",
    "for file in T.fileids()[:5]:\n",
    "    lines = next(T.doc_rows(file))\n",
    "    lines = list(lines.items())\n",
    "    for citation, line in lines:\n",
    "        if 'ego' in line:\n",
    "            ego_counts[file] += 1\n",
    "        else:\n",
    "            ego_counts[file] += 0\n",
    "\n",
    "\n",
    "pprint(ego_counts)  "
   ]
  },
  {
   "cell_type": "code",
   "execution_count": null,
   "metadata": {},
   "outputs": [],
   "source": [
    "# Collect matches in all texts\n",
    "\n",
    "ego_counts = defaultdict(int)\n",
    "\n",
    "for file in T.fileids():\n",
    "    lines = next(T.doc_rows(file))\n",
    "    lines = list(lines.items())\n",
    "    for citation, line in lines:\n",
    "        if 'ego' in line:\n",
    "            ego_counts[file] += 1\n",
    "        else:\n",
    "            ego_counts[file] += 0"
   ]
  },
  {
   "cell_type": "code",
   "execution_count": null,
   "metadata": {},
   "outputs": [],
   "source": [
    "# Check assumptions\n",
    "\n",
    "'plautus.menaechmi.tess' in ego_counts.keys()"
   ]
  },
  {
   "cell_type": "code",
   "execution_count": null,
   "metadata": {},
   "outputs": [],
   "source": [
    "# Imports; for plotting\n",
    "\n",
    "import seaborn as sns\n",
    "import matplotlib.pyplot as plt\n",
    "pal = sns.color_palette(\"colorblind\")"
   ]
  },
  {
   "cell_type": "code",
   "execution_count": null,
   "metadata": {},
   "outputs": [],
   "source": [
    "# Make barplot of counts\n",
    "\n",
    "ego_counts = dict([(k, v) for k, v in ego_counts.items() if v > 0])\n",
    "\n",
    "keys = list(ego_counts.keys())\n",
    "vals = list(ego_counts.values())\n",
    "\n",
    "plt.figure(figsize=(32, 8))\n",
    "ax = sns.barplot(x=keys, y=vals, palette=pal);\n",
    "plt.title('ego raw counts in Latin Tesserae',fontsize=36)\n",
    "plt.xlabel('Works', fontsize=12)\n",
    "plt.ylabel('Count', fontsize=12)\n",
    "ax.set_xticklabels(labels=keys, rotation=75, horizontalalignment='right', fontsize=18);\n",
    "plt.show()\n"
   ]
  },
  {
   "cell_type": "code",
   "execution_count": null,
   "metadata": {},
   "outputs": [],
   "source": [
    "# Get detail of barplot, only left 10\n",
    "\n",
    "ego_counts_sorted_left = dict(sorted(list(ego_counts.items()), key=lambda x: x[1], reverse=True)[:10])\n",
    "\n",
    "keys = list(ego_counts_sorted_left.keys())\n",
    "vals = list(ego_counts_sorted_left.values())\n",
    "\n",
    "plt.figure(figsize=(32, 8))\n",
    "ax = sns.barplot(x=keys, y=vals, palette=pal);\n",
    "plt.title('ego raw counts in Latin Tesserae',fontsize=36)\n",
    "plt.xlabel('Works', fontsize=24)\n",
    "plt.ylabel('Count', fontsize=24)\n",
    "ax.set_xticklabels(labels=keys, rotation=75, horizontalalignment='right', fontsize=18);\n",
    "plt.show()"
   ]
  },
  {
   "cell_type": "code",
   "execution_count": null,
   "metadata": {},
   "outputs": [],
   "source": [
    "# Get counts again (i.e. replace 0 values)\n",
    "\n",
    "ego_counts = defaultdict(int)\n",
    "\n",
    "for file in T.fileids():\n",
    "    lines = next(T.doc_rows(file))\n",
    "    lines = list(lines.items())\n",
    "    for citation, line in lines:\n",
    "        if 'ego' in line:\n",
    "            ego_counts[file] += 1\n",
    "        else:\n",
    "            ego_counts[file] += 0"
   ]
  },
  {
   "cell_type": "code",
   "execution_count": null,
   "metadata": {},
   "outputs": [],
   "source": [
    "# Get word counts for all texts\n",
    "# MB: Cached, takes a long(!) time to run\n",
    "\n",
    "# word_counts = defaultdict(int)\n",
    "\n",
    "# for file in tqdm(T.fileids()):\n",
    "#     word_count = len(list(T.words(file, preprocess=preprocess)))\n",
    "#     word_counts[file] = word_count\n",
    "\n",
    "# pickle.dump(word_counts, open('data/latin_word_counts.pickle', 'wb'))\n",
    "\n",
    "word_counts = pickle.load(open('../data/latin_word_counts.pickle', 'rb'))    "
   ]
  },
  {
   "cell_type": "code",
   "execution_count": null,
   "metadata": {},
   "outputs": [],
   "source": [
    "# Compare lists\n",
    "\n",
    "pprint(list(word_counts.items())[:5])\n",
    "print()\n",
    "pprint(list(ego_counts.items())[:5])"
   ]
  },
  {
   "cell_type": "code",
   "execution_count": null,
   "metadata": {},
   "outputs": [],
   "source": [
    "# Workflow for normalizing\n",
    "\n",
    "for i, item in enumerate(ego_counts.items()):\n",
    "    text = item[0]\n",
    "    print(text)\n",
    "    ego_count = item[1]\n",
    "    print(f'ego appears {ego_count} times...')\n",
    "    word_count = list(word_counts.values())[i]\n",
    "    print(f'...in {word_count} total words')\n",
    "    norm_count = (ego_count / word_count) * 1000\n",
    "    print(f'The normalized count is {norm_count:.02} per 1000 words')\n",
    "    break"
   ]
  },
  {
   "cell_type": "code",
   "execution_count": null,
   "metadata": {},
   "outputs": [],
   "source": [
    "# Normalize counts\n",
    "\n",
    "ego_norm_counts = defaultdict(float)\n",
    "\n",
    "for i, item in enumerate(ego_counts.items()):\n",
    "    text = item[0]\n",
    "    ego_count = item[1]\n",
    "    word_count = list(word_counts.values())[i]\n",
    "    norm_count = (ego_count / word_count) * 1000\n",
    "    ego_norm_counts[text] = norm_count\n",
    "\n",
    "list(ego_norm_counts.items())[:5]    "
   ]
  },
  {
   "cell_type": "code",
   "execution_count": null,
   "metadata": {},
   "outputs": [],
   "source": [
    "# Make bar plot of normalized data\n",
    "\n",
    "ego_norm_counts_sorted = dict(sorted(list(ego_norm_counts.items()), key=lambda x: x[1], reverse=True)[:10])\n",
    "\n",
    "keys = list(ego_norm_counts_sorted.keys())\n",
    "vals = list(ego_norm_counts_sorted.values())\n",
    "\n",
    "plt.figure(figsize=(32, 8))\n",
    "ax = sns.barplot(x=keys, y=vals, palette=pal);\n",
    "plt.title('ego normalized counts in Latin Tesserae (top 50)',fontsize=36)\n",
    "plt.xlabel('Works', fontsize=24)\n",
    "plt.ylabel('Count', fontsize=24)\n",
    "ax.set_xticklabels(labels=keys, rotation=75, horizontalalignment='right', fontsize=18);\n",
    "plt.show()"
   ]
  },
  {
   "cell_type": "code",
   "execution_count": null,
   "metadata": {},
   "outputs": [],
   "source": [
    "# Show example\n",
    "\n",
    "text = 'plautus.menaechmi.tess'\n",
    "print(ego_counts[text])\n",
    "print(word_counts[text])"
   ]
  },
  {
   "cell_type": "code",
   "execution_count": null,
   "metadata": {},
   "outputs": [],
   "source": [
    "# Show example\n",
    "\n",
    "max_ego = list(ego_counts.keys())[list(ego_counts.values()).index(max(ego_counts.values()))]\n",
    "\n",
    "# \"diagrammed\"\n",
    "max_ego = list(\n",
    "                    ego_counts.keys()\n",
    "                    )[\n",
    "                        list(\n",
    "                             ego_counts.values()\n",
    "                            ).index(\n",
    "                                    max(\n",
    "                                        ego_counts.values()\n",
    "                                        )\n",
    "                                    )\n",
    "                     ]\n",
    "\n",
    "\n",
    "print(max_ego)\n",
    "print(ego_counts[max_ego])\n",
    "print(word_counts[max_ego])"
   ]
  }
 ],
 "metadata": {
  "kernelspec": {
   "display_name": "Python 3.10.4 64-bit ('exploratory-philology')",
   "language": "python",
   "name": "python3"
  },
  "language_info": {
   "codemirror_mode": {
    "name": "ipython",
    "version": 3
   },
   "file_extension": ".py",
   "mimetype": "text/x-python",
   "name": "python",
   "nbconvert_exporter": "python",
   "pygments_lexer": "ipython3",
   "version": "3.10.4"
  },
  "orig_nbformat": 4,
  "vscode": {
   "interpreter": {
    "hash": "602b9845bb6702be41bdfdefd2bba256d92e78b624ab00c1b8e88240a331b85f"
   }
  }
 },
 "nbformat": 4,
 "nbformat_minor": 2
}
