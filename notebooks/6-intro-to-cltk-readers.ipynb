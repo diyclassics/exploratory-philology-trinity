{
 "cells": [
  {
   "cell_type": "code",
   "execution_count": null,
   "metadata": {},
   "outputs": [],
   "source": [
    "## Imports\n",
    "\n",
    "from cltkreaders.lat import LatinTesseraeCorpusReader\n",
    "from os.path import expanduser\n",
    "from natsort import natsorted\n",
    "from pprint import pprint"
   ]
  },
  {
   "cell_type": "code",
   "execution_count": null,
   "metadata": {},
   "outputs": [],
   "source": [
    "## Set up reader\n",
    "# NB: If you do not have the CLTK-Tesserae corpus already installed in CLTK_DATA, you will be prompted to download the corpus.\n",
    "\n",
    "T = LatinTesseraeCorpusReader()"
   ]
  },
  {
   "cell_type": "markdown",
   "metadata": {},
   "source": [
    "## Fileids"
   ]
  },
  {
   "cell_type": "code",
   "execution_count": null,
   "metadata": {},
   "outputs": [],
   "source": [
    "## First 10 filesnames\n",
    "\n",
    "pprint(T.fileids()[:10])"
   ]
  },
  {
   "cell_type": "code",
   "execution_count": null,
   "metadata": {},
   "outputs": [],
   "source": [
    "## First 10 works of Cicero\n",
    "\n",
    "cicero = [file for file in T.fileids() if 'cicero' in file]\n",
    "pprint(cicero[:10])"
   ]
  },
  {
   "cell_type": "code",
   "execution_count": null,
   "metadata": {},
   "outputs": [],
   "source": [
    "## Books of the Aeneid, sorted\n",
    "\n",
    "aeneid = natsorted([file for file in T.fileids() if 'aeneid' in file])\n",
    "pprint(aeneid)"
   ]
  },
  {
   "cell_type": "markdown",
   "metadata": {},
   "source": [
    "## Doc structures"
   ]
  },
  {
   "cell_type": "code",
   "execution_count": null,
   "metadata": {},
   "outputs": [],
   "source": [
    "catullus = 'catullus.carmina.tess'"
   ]
  },
  {
   "cell_type": "code",
   "execution_count": null,
   "metadata": {},
   "outputs": [],
   "source": [
    "## Docs\n",
    "\n",
    "catullus_doc = T.docs(catullus)\n",
    "print(next(catullus_doc)[:446])"
   ]
  },
  {
   "cell_type": "code",
   "execution_count": null,
   "metadata": {},
   "outputs": [],
   "source": [
    "## Texts\n",
    "\n",
    "catullus_text = T.texts(catullus)\n",
    "print(next(catullus_text)[:335])"
   ]
  },
  {
   "cell_type": "code",
   "execution_count": null,
   "metadata": {},
   "outputs": [],
   "source": [
    "## Doc Rows\n",
    "\n",
    "catullus_docrows = T.doc_rows(catullus)\n",
    "\n",
    "print('This is a string representation of what the output dictionary looks like...')\n",
    "print(f'{str(next(catullus_docrows))[:94]} etc. }}\\n')\n",
    "\n",
    "\n",
    "catullus_docrows = T.doc_rows(catullus)\n",
    "print('Here are the first 10 items of the dict output...')\n",
    "pprint(list(next(catullus_docrows).items())[:10])\n"
   ]
  },
  {
   "cell_type": "markdown",
   "metadata": {},
   "source": [
    "## Doc units"
   ]
  },
  {
   "cell_type": "code",
   "execution_count": null,
   "metadata": {},
   "outputs": [],
   "source": [
    "catilinam = 'cicero.in_catilinam.tess'"
   ]
  },
  {
   "cell_type": "code",
   "execution_count": null,
   "metadata": {},
   "outputs": [],
   "source": [
    "## Paras\n",
    "\n",
    "print(\"Note that for the Tesserae texts, `paras` are *not* implemented. As they are not consistently marked in the original files.\")"
   ]
  },
  {
   "cell_type": "code",
   "execution_count": null,
   "metadata": {},
   "outputs": [],
   "source": [
    "# Sents\n",
    "\n",
    "# NB: Sents are segmented by default with the CLTK LatinPunktSentenceTokenizer\n",
    "\n",
    "catilinam_sents = T.sents(catilinam)\n",
    "\n",
    "for i in range(1,6):\n",
    "    print(f'Sent {i}: {next(catilinam_sents)}')"
   ]
  },
  {
   "cell_type": "code",
   "execution_count": null,
   "metadata": {},
   "outputs": [],
   "source": [
    "# Words\n",
    "\n",
    "# NB: Words are tokenized by default with the CLTK LatinWordTokenizer\n",
    "\n",
    "catilinam_words = T.words(catilinam)\n",
    "\n",
    "for i in range(1,10):\n",
    "    print(f'Word {i}: {next(catilinam_words)}')\n"
   ]
  },
  {
   "cell_type": "code",
   "execution_count": null,
   "metadata": {},
   "outputs": [],
   "source": [
    "# You can pass a preprocessor to `words` \n",
    "\n",
    "def custom_preprocess(text):\n",
    "    text = text.lower()\n",
    "    return text\n",
    "\n",
    "catilinam_words = T.words(catilinam, preprocess=custom_preprocess)\n",
    "\n",
    "for i in range(1,10):\n",
    "    print(f'Word {i}: {next(catilinam_words)}')"
   ]
  },
  {
   "cell_type": "code",
   "execution_count": null,
   "metadata": {},
   "outputs": [],
   "source": [
    "# POS-tagged sents\n",
    "\n",
    "catilinam_tokenized_sents = T.tokenized_sents(catilinam)\n",
    "\n",
    "print(f'Tok Sent 1: {next(catilinam_tokenized_sents)[0]}')"
   ]
  },
  {
   "cell_type": "markdown",
   "metadata": {},
   "source": [
    "## Doc description"
   ]
  },
  {
   "cell_type": "code",
   "execution_count": null,
   "metadata": {},
   "outputs": [],
   "source": [
    "metamorphoses = natsorted([file for file in T.fileids() if 'ovid.metamorphoses' in file])"
   ]
  },
  {
   "cell_type": "code",
   "execution_count": null,
   "metadata": {},
   "outputs": [],
   "source": [
    "def custom_preprocess(text):\n",
    "    from cltk.alphabet.lat import JVReplacer\n",
    "    replacer = JVReplacer()\n",
    "\n",
    "    text = text.lower() # Lowercase\n",
    "    text = replacer.replace(text)  # Normalize u/v & i/j\n",
    "\n",
    "    # Remove punctuation\n",
    "    punctuation =\"\\\"#$%&\\'()*+,/:;<=>@[\\]^_`{|}~.?!«»—“-”\"\n",
    "    misc = '¡£¤¥¦§¨©¯°±²³´µ¶·¸¹º¼½¾¿÷·–‘’†•ↄ∞⏑〈〉（）'\n",
    "    misc += punctuation\n",
    "    translator = str.maketrans({key: \" \" for key in misc})\n",
    "    text = text.translate(translator)\n",
    "\n",
    "    # Remove numbers\n",
    "    translator = str.maketrans({key: \" \" for key in '0123456789'})\n",
    "    text = text.translate(translator)\n",
    "\n",
    "    return \" \".join(text.split()).strip()"
   ]
  },
  {
   "cell_type": "code",
   "execution_count": null,
   "metadata": {},
   "outputs": [],
   "source": [
    "## Concordance, using Tesserae citations\n",
    "\n",
    "metamorphoses_concordances = T.concordance(metamorphoses, preprocess=custom_preprocess)\n",
    "\n",
    "met_conc_sample = next(metamorphoses_concordances)\n",
    "pprint(list(met_conc_sample.items())[:3])"
   ]
  },
  {
   "cell_type": "code",
   "execution_count": null,
   "metadata": {},
   "outputs": [],
   "source": [
    "# Concordances are by default built on a file-by-file basis, but can easily be combined with the `compiled` parameter\n",
    "\n",
    "metamorphoses_concordances = T.concordance(metamorphoses, compiled=True, preprocess=custom_preprocess)\n",
    "\n",
    "full_met_conc_sample = next(metamorphoses_concordances)\n",
    "pprint(list(full_met_conc_sample.items())[96:102])"
   ]
  },
  {
   "cell_type": "code",
   "execution_count": null,
   "metadata": {},
   "outputs": [],
   "source": [
    "# Since the concordances are output as dictionaries, you can retrieve location information using the token as a dict key...\n",
    "\n",
    "metamorphoses_concordances = T.concordance(metamorphoses, compiled=True, preprocess=custom_preprocess)\n",
    "full_met_conc_sample = next(metamorphoses_concordances)\n",
    "\n",
    "print(f'\\'corpus\\' appears {len(full_met_conc_sample[\"corpus\"])} times in the Metamorphoses.')\n",
    "print('Here are the first five instances...')\n",
    "print(full_met_conc_sample['corpus'][:5])\n",
    "\n",
    "print()\n",
    "\n",
    "print(f'\\'corpora\\' appears {len(full_met_conc_sample[\"corpora\"])} times in the Metamorphoses.')\n",
    "print('Here are the first five instances...')\n",
    "print(full_met_conc_sample['corpora'][:5])"
   ]
  },
  {
   "cell_type": "code",
   "execution_count": null,
   "metadata": {},
   "outputs": [],
   "source": [
    "# ## Basic descriptive data; note takes several minutes to run\n",
    "\n",
    "# tess_describe = T.describe()\n",
    "# pprint(tess_describe)"
   ]
  },
  {
   "cell_type": "code",
   "execution_count": null,
   "metadata": {},
   "outputs": [],
   "source": [
    "## This data can also be returned for individual files or lists of files\n",
    "\n",
    "print('Stats on just the file \\'catullus.carmina.tess\\'')\n",
    "pprint(T.describe(catullus))"
   ]
  },
  {
   "cell_type": "code",
   "execution_count": null,
   "metadata": {},
   "outputs": [],
   "source": [
    "print('Stats on just the group of files assigned above to the variable `metamorphoses`')\n",
    "pprint(T.describe(metamorphoses))"
   ]
  }
 ],
 "metadata": {
  "kernelspec": {
   "display_name": "Python 3.10.4 64-bit ('exploratory-philology')",
   "language": "python",
   "name": "python3"
  },
  "language_info": {
   "codemirror_mode": {
    "name": "ipython",
    "version": 3
   },
   "file_extension": ".py",
   "mimetype": "text/x-python",
   "name": "python",
   "nbconvert_exporter": "python",
   "pygments_lexer": "ipython3",
   "version": "3.10.4"
  },
  "orig_nbformat": 4,
  "vscode": {
   "interpreter": {
    "hash": "602b9845bb6702be41bdfdefd2bba256d92e78b624ab00c1b8e88240a331b85f"
   }
  }
 },
 "nbformat": 4,
 "nbformat_minor": 2
}
